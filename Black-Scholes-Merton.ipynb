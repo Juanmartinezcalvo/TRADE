{
 "cells": [
  {
   "cell_type": "markdown",
   "id": "ee66dd2a",
   "metadata": {},
   "source": [
    "# Option pricing using the Black-Scholes-Merton Model\n",
    "It calculates the theoretical value of an option based on 5 variables:\n",
    "- Underlying Price(S)\n",
    "- Strike Price(k)\n",
    "- Time to Expiration(T)\n",
    "- Risk Free Rate(r)\n",
    "- Volatility(σ)"
   ]
  },
  {
   "cell_type": "code",
   "execution_count": 49,
   "id": "1bf108f9",
   "metadata": {},
   "outputs": [],
   "source": [
    "import math\n",
    "from scipy.stats import norm"
   ]
  },
  {
   "cell_type": "code",
   "execution_count": 50,
   "id": "209b3b5f",
   "metadata": {},
   "outputs": [
    {
     "name": "stdout",
     "output_type": "stream",
     "text": [
      "d1= 0.77\n",
      "d2= 0.63\n",
      "C= 4.76\n",
      "P= 0.81\n"
     ]
    }
   ],
   "source": [
    "#initialitating the variables\n",
    "S=42\n",
    "k=40\n",
    "T=0.5\n",
    "r=0.1\n",
    "vol=0.2\n",
    "\n",
    "#\n",
    "d1=(math.log(S/k)+(r+0.5*vol**2)*T)/(vol*math.sqrt(T))\n",
    "#\n",
    "d2=d1-vol*math.sqrt(T)\n",
    "\n",
    "#Calculate Call Option Price, where:\n",
    "#S * norm.cdf(d1) is the expected benefit from owning the underlying asset if the option is exercised.\n",
    "#K * exp(-r * T) * norm.cdf(d2) is the present value of the strike price, weighted by the probability that the option will be exercised.\n",
    "C=S*norm.cdf(d1)-k*math.exp(-r*T)*norm.cdf(d2)\n",
    "\n",
    "#Calculate Put option Price, where:\n",
    "#K*exp(-r*T)*norm.cdf(-d2) is the present value of receiving the strike price if the option is exercised.\n",
    "#S*norm.cdf(-d1) is the expected cost of buying the underlying asset if the option is exercised.\n",
    "P=k*math.exp(-r*T)*norm.cdf(-d2)-S*norm.cdf(-d1)\n",
    "\n",
    "print('d1=',round(d1,2))\n",
    "print('d2=',round(d2,2))\n",
    "print('C=',round(C,2))\n",
    "print('P=',round(P,2))"
   ]
  },
  {
   "cell_type": "markdown",
   "id": "9fde6a72",
   "metadata": {},
   "source": [
    "**Black-Scholes Model Summary for Option Pricing.** \n",
    "\n",
    "The Black-Scholes model is a mathematical formula used to estimate the theoretical price of European-style call and put options.\n",
    "\n",
    "- C (Call Option Price): This is the calculated theoretical price of a call option. It represents the value of the right, but not the obligation, to buy the underlying asset at the strike price (K) on the expiration date (T). \"C\" is not a prediction of the future price of the underlying asset. It reflects the fair market value of the option contract itself, considering the probability of the option becoming profitable (in-the-money).\n",
    "\n",
    "- P (Put Option Price): This is the calculated theoretical price of a put option. It represents the value of the right, but not the obligation, to sell the underlying asset at the strike price (K) on the expiration date (T).\n"
   ]
  }
 ],
 "metadata": {
  "kernelspec": {
   "display_name": "Python 3",
   "language": "python",
   "name": "python3"
  },
  "language_info": {
   "codemirror_mode": {
    "name": "ipython",
    "version": 3
   },
   "file_extension": ".py",
   "mimetype": "text/x-python",
   "name": "python",
   "nbconvert_exporter": "python",
   "pygments_lexer": "ipython3",
   "version": "3.8.8"
  }
 },
 "nbformat": 4,
 "nbformat_minor": 5
}
